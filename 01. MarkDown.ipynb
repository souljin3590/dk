{
 "cells": [
  {
   "cell_type": "markdown",
   "metadata": {
    "toc": true
   },
   "source": [
    "<h1>Table of Contents<span class=\"tocSkip\"></span></h1>\n",
    "<div class=\"toc\"><ul class=\"toc-item\"><li><span><a href=\"#1.-MarkDown-사용하기\" data-toc-modified-id=\"1.-MarkDown-사용하기-1\">1. MarkDown 사용하기</a></span></li><li><span><a href=\"#2.-Header\" data-toc-modified-id=\"2.-Header-2\">2. Header</a></span></li><li><span><a href=\"#Header-1-:-#-1개-사용\" data-toc-modified-id=\"Header-1-:-#-1개-사용-3\">Header 1 : # 1개 사용</a></span><ul class=\"toc-item\"><li><span><a href=\"#Header-2-:-#-2개-사용\" data-toc-modified-id=\"Header-2-:-#-2개-사용-3.1\">Header 2 : # 2개 사용</a></span><ul class=\"toc-item\"><li><span><a href=\"#Header-3-:-#-3개-사용\" data-toc-modified-id=\"Header-3-:-#-3개-사용-3.1.1\">Header 3 : # 3개 사용</a></span><ul class=\"toc-item\"><li><span><a href=\"#Header-4-:-#-4개-사용\" data-toc-modified-id=\"Header-4-:-#-4개-사용-3.1.1.1\">Header 4 : # 4개 사용</a></span></li></ul></li></ul></li></ul></li><li><span><a href=\"#Header-1\" data-toc-modified-id=\"Header-1-4\">Header 1</a></span><ul class=\"toc-item\"><li><span><a href=\"#Header-2\" data-toc-modified-id=\"Header-2-4.1\">Header 2</a></span><ul class=\"toc-item\"><li><span><a href=\"#Header-3\" data-toc-modified-id=\"Header-3-4.1.1\">Header 3</a></span><ul class=\"toc-item\"><li><span><a href=\"#Header-4\" data-toc-modified-id=\"Header-4-4.1.1.1\">Header 4</a></span></li></ul></li></ul></li></ul></li><li><span><a href=\"#3.-Quote\" data-toc-modified-id=\"3.-Quote-5\">3. Quote</a></span></li><li><span><a href=\"#4.-목록\" data-toc-modified-id=\"4.-목록-6\">4. 목록</a></span><ul class=\"toc-item\"><li><span><a href=\"#4.1-순서가-있는-목록(번호)\" data-toc-modified-id=\"4.1-순서가-있는-목록(번호)-6.1\">4.1 순서가 있는 목록(번호)</a></span></li><li><span><a href=\"#4.2-순서가-없는-목록(*,-+,--)\" data-toc-modified-id=\"4.2-순서가-없는-목록(*,-+,--)-6.2\">4.2 순서가 없는 목록(*, +, -)</a></span><ul class=\"toc-item\"><li><span><a href=\"#4.2.1-들여쓰기\" data-toc-modified-id=\"4.2.1-들여쓰기-6.2.1\">4.2.1 들여쓰기</a></span></li></ul></li></ul></li><li><span><a href=\"#5.-수평선\" data-toc-modified-id=\"5.-수평선-7\">5. 수평선</a></span></li><li><span><a href=\"#6.-줄바꿈\" data-toc-modified-id=\"6.-줄바꿈-8\">6. 줄바꿈</a></span></li><li><span><a href=\"#7.-Font\" data-toc-modified-id=\"7.-Font-9\">7. Font</a></span><ul class=\"toc-item\"><li><span><a href=\"#7.1-글자-색(color)\" data-toc-modified-id=\"7.1-글자-색(color)-9.1\">7.1 글자 색(color)</a></span></li><li><span><a href=\"#7.2-글자-크기(font-size)\" data-toc-modified-id=\"7.2-글자-크기(font-size)-9.2\">7.2 글자 크기(font-size)</a></span></li><li><span><a href=\"#7.3-굵기(**-or-font-weight:bold)\" data-toc-modified-id=\"7.3-굵기(**-or-font-weight:bold)-9.3\">7.3 굵기(** or font-weight:bold)</a></span></li><li><span><a href=\"#7.4-기울임(*-or-font-style:italic)\" data-toc-modified-id=\"7.4-기울임(*-or-font-style:italic)-9.4\">7.4 기울임(* or font-style:italic)</a></span></li><li><span><a href=\"#7.5-글꼴(font-family)\" data-toc-modified-id=\"7.5-글꼴(font-family)-9.5\">7.5 글꼴(font-family)</a></span></li><li><span><a href=\"#7.6\" data-toc-modified-id=\"7.6-9.6\">7.6</a></span></li></ul></li><li><span><a href=\"#8.-Link\" data-toc-modified-id=\"8.-Link-10\">8. Link</a></span></li><li><span><a href=\"#9.-Image\" data-toc-modified-id=\"9.-Image-11\">9. Image</a></span></li><li><span><a href=\"#10.-Table\" data-toc-modified-id=\"10.-Table-12\">10. Table</a></span></li><li><span><a href=\"#11.-Code\" data-toc-modified-id=\"11.-Code-13\">11. Code</a></span></li><li><span><a href=\"#12.-Tex\" data-toc-modified-id=\"12.-Tex-14\">12. Tex</a></span></li></ul></div>"
   ]
  },
  {
   "cell_type": "markdown",
   "metadata": {},
   "source": [
    "---\n",
    "<br> \n",
    "<span style=\"font-size:3em; font-weight:bold; line-height:1em\">마크다운이란?</span>    \n",
    "\n",
    "* 마크다운(Markdown)은 웹상에서 글을 쓰는 모든 사람들을 위한 글쓰기 도구(서식, 포맷, 양식) 입니다.\n",
    "* 마크다운(Markdown)은 HTML을 몰라도 약간의 노력으로 글자를 HTML형식으로 변환시켜 줍니다.(단 변환도구는 따로 있어야 합니다. 이건 나중에 따로 글을 적겠습니다.)\n",
    "* 마크다운(Markdown)은 쉽게 글을 쓸 수 있도록 해 주고, 읽는 사람에게도 쉽게 읽힐 수 있도록 해 주는 간소한 서식(포맷)입니다.\n",
    "* 마크다운(Markdown)은 꾸밈없는 간소한 문법으로 글쓰기에 집중 할 수 있도록 도와줍니다.\n",
    "\n",
    "출처: https://thisblogbusy.tistory.com/entry/마크다운Markdown-이란 [하루 한가지 배우기]"
   ]
  },
  {
   "cell_type": "markdown",
   "metadata": {},
   "source": [
    "---\n",
    "<br> \n",
    "# 1. MarkDown 사용하기"
   ]
  },
  {
   "cell_type": "markdown",
   "metadata": {},
   "source": [
    "주피터 노트북에서 마크다운을 사용하려면 Code 셀에서 <span style=\"color:#F8766D\">MarkDown 셀</span>로 변경해 주어야 합니다.  \n",
    "만약, 다음과 같이 마크다운 셀이 아닌, 코드 셀에 글씨를 쓰면 에러가 납니다."
   ]
  },
  {
   "cell_type": "code",
   "execution_count": 3,
   "metadata": {},
   "outputs": [
    {
     "ename": "SyntaxError",
     "evalue": "invalid syntax (<ipython-input-3-ebf51660d02d>, line 1)",
     "output_type": "error",
     "traceback": [
      "\u001b[0;36m  File \u001b[0;32m\"<ipython-input-3-ebf51660d02d>\"\u001b[0;36m, line \u001b[0;32m1\u001b[0m\n\u001b[0;31m    마크다운 test\u001b[0m\n\u001b[0m            ^\u001b[0m\n\u001b[0;31mSyntaxError\u001b[0m\u001b[0;31m:\u001b[0m invalid syntax\n"
     ]
    }
   ],
   "source": [
    "마크다운 test"
   ]
  },
  {
   "cell_type": "markdown",
   "metadata": {},
   "source": []
  },
  {
   "cell_type": "markdown",
   "metadata": {},
   "source": [
    "코드 셀을 마크다운 셀로 변경하는 방법은 다음과 같습니다.\n",
    "1. esc + m\n",
    "2. Cell -> Cell Type -> Markdown\n",
    "\n",
    "(다시 코드 셀로 돌아 갈 땐 esc + y)"
   ]
  },
  {
   "cell_type": "markdown",
   "metadata": {},
   "source": [
    "---\n",
    "<br> \n",
    "# 2. Header"
   ]
  },
  {
   "cell_type": "markdown",
   "metadata": {},
   "source": [
    "\"#\"을 활용하여 header(제목) 기능을 사용할 수 있고, \"#\"의 개수로 header의 크기를 조절할 수 있습니다.(1~6개까지 지원)"
   ]
  },
  {
   "cell_type": "markdown",
   "metadata": {},
   "source": [
    "# Header 1 : # 1개 사용\n",
    "## Header 2 : # 2개 사용\n",
    "### Header 3 : # 3개 사용\n",
    "#### Header 4 : # 4개 사용\n",
    "##### Header 5 : # 5개 사용\n",
    "###### Header 6 : # 6개 사용\n",
    "####### Header 7 : # 7개 사용; 6개까지 header로 활용 가능"
   ]
  },
  {
   "cell_type": "markdown",
   "metadata": {},
   "source": [
    "<h1>Header 1</h1>\n",
    "<h2>Header 2</h2>\n",
    "<h3>Header 3</h3>\n",
    "<h4>Header 4</h4>\n",
    "<h5>Header 5</h5>\n",
    "<h6>Header 6</h6>\n",
    "<h7>Header 7</h7>"
   ]
  },
  {
   "cell_type": "markdown",
   "metadata": {},
   "source": [
    "---\n",
    "<br> \n",
    "# 3. Quote"
   ]
  },
  {
   "cell_type": "markdown",
   "metadata": {},
   "source": [
    "> 인용구는 \">\" 로 사용할 수 있습니다."
   ]
  },
  {
   "cell_type": "markdown",
   "metadata": {},
   "source": [
    "> 인용구 안에 \n",
    ">> 인용구를 사용할 수도 있답니다.\n",
    ">>> 세 개도 가능합니다."
   ]
  },
  {
   "cell_type": "markdown",
   "metadata": {},
   "source": [
    "> 인용구 안에\n",
    ">> **마크다운 문법을 활용 할 수도 있고,** 이렇게 $y=3x$ 수학기호를 쓸 수도 있어요."
   ]
  },
  {
   "cell_type": "markdown",
   "metadata": {},
   "source": [
    "---\n",
    "<br> \n",
    "# 4. 목록"
   ]
  },
  {
   "cell_type": "markdown",
   "metadata": {},
   "source": [
    "## 4.1 순서가 있는 목록(번호)"
   ]
  },
  {
   "cell_type": "markdown",
   "metadata": {},
   "source": [
    "1. 첫 번째\n",
    "2. 두 번째\n",
    "3. 세 번째"
   ]
  },
  {
   "cell_type": "markdown",
   "metadata": {},
   "source": [
    "## 4.2 순서가 없는 목록(*, +, -)"
   ]
  },
  {
   "cell_type": "markdown",
   "metadata": {},
   "source": [
    "* 별표 (*)\n",
    "+ 플러스 (+)\n",
    "- 마이너스 (-)"
   ]
  },
  {
   "cell_type": "markdown",
   "metadata": {},
   "source": [
    "### 4.2.1 들여쓰기\n",
    "띄어쓰기 or Tab"
   ]
  },
  {
   "cell_type": "markdown",
   "metadata": {},
   "source": [
    "* level1\n",
    " * level2\n",
    " * level2-2\n",
    "    * level3"
   ]
  },
  {
   "cell_type": "markdown",
   "metadata": {},
   "source": [
    "1. 첫 번째\n",
    " * level2\n",
    " * level2-2\n",
    "2. 두 번째\n",
    " * level2\n",
    "     * level3"
   ]
  },
  {
   "cell_type": "markdown",
   "metadata": {},
   "source": [
    "1. 첫 번째\n",
    "    1. 1-1\n",
    "    2. 1-2\n",
    "2. 두 번째\n",
    "    1. 2-1\n",
    "    2. 2-2"
   ]
  },
  {
   "cell_type": "markdown",
   "metadata": {},
   "source": [
    "---\n",
    "<br> \n",
    "# 5. 수평선"
   ]
  },
  {
   "cell_type": "markdown",
   "metadata": {},
   "source": [
    "*** \n",
    "---\n",
    "<hr> "
   ]
  },
  {
   "cell_type": "markdown",
   "metadata": {},
   "source": [
    "---\n",
    "<br> \n",
    "# 6. 줄바꿈"
   ]
  },
  {
   "cell_type": "markdown",
   "metadata": {},
   "source": [
    "글씨를 쓰다가 다음 줄로 넘어가고 싶어도, 그냥 enter로는 다음줄로 넘어가지지 않습니다.\n",
    "줄바꿈을 하고싶은 부분에 <span style=\"color:#F8766D\">space 두 번 or \"br\" </span> 표시를 넣어야 다음 줄로 넘어갑니다."
   ]
  },
  {
   "cell_type": "markdown",
   "metadata": {},
   "source": [
    "첫 번째 줄  \n",
    "두 번째 줄<br>\n",
    "세 번째 줄"
   ]
  },
  {
   "cell_type": "markdown",
   "metadata": {},
   "source": [
    "---\n",
    "<br> \n",
    "# 7. Font\n",
    "출처 : https://ojji.wayful.com/2015/03/HTML-How-to--Set-FONT-Size-Color-Weight-Family-Variant-Line-Height-ect.html"
   ]
  },
  {
   "cell_type": "markdown",
   "metadata": {},
   "source": [
    "## 7.1 글자 색(color)"
   ]
  },
  {
   "cell_type": "markdown",
   "metadata": {},
   "source": [
    "<span style=\"color:red\">빨간색 글씨</span>  \n",
    "<span style=\"color:blue\">파란색 글씨</span>  \n",
    "<span style=\"color:#F8766D\">16진수 color 활용 가능</span>  "
   ]
  },
  {
   "cell_type": "markdown",
   "metadata": {},
   "source": [
    "## 7.2 글자 크기(font-size)"
   ]
  },
  {
   "cell_type": "markdown",
   "metadata": {},
   "source": [
    "<p style=\"font-size:1px\">1px</p>\n",
    "<p style=\"font-size:5px\">5px</p>\n",
    "<p style=\"font-size:20px\">20px</p>\n",
    "<p style=\"font-size:50px; line-height:1em\">50px</p>"
   ]
  },
  {
   "cell_type": "markdown",
   "metadata": {},
   "source": [
    "<br> \n",
    "## 7.3 굵기(** or font-weight:bold)"
   ]
  },
  {
   "cell_type": "markdown",
   "metadata": {},
   "source": [
    "**별표(*)로 굵게 표시 가능**  \n",
    "<p style=\"font-weight:bold\">html 문법으로 굴게 표시 가능</p>"
   ]
  },
  {
   "cell_type": "markdown",
   "metadata": {},
   "source": [
    "<br> \n",
    "## 7.4 기울임(* or font-style:italic)"
   ]
  },
  {
   "cell_type": "markdown",
   "metadata": {},
   "source": [
    "*별표(*)로 기울임 표시 가능*  \n",
    "<p style=\"font-style:italic\">html 문법으로 기울임 표시 가능</p>"
   ]
  },
  {
   "cell_type": "markdown",
   "metadata": {},
   "source": [
    "<br> \n",
    "## 7.5 글꼴(font-family)"
   ]
  },
  {
   "cell_type": "markdown",
   "metadata": {},
   "source": [
    "<span style=\"font-family:arial\">arial</span>"
   ]
  },
  {
   "cell_type": "markdown",
   "metadata": {},
   "source": [
    "<br> \n",
    "## 7.6 "
   ]
  },
  {
   "cell_type": "markdown",
   "metadata": {},
   "source": [
    "색 상  color : 색상이름 또는 색상코드   \n",
    "굵 기  font-weight : bold  \n",
    "기울임  font-style : italic  \n",
    "크 기  font-size : 숫자px, 숫자% 또는 숫자em  \n",
    "글 꼴  font-family : 굴림, 돋움, 궁서, Arial, 등등   \n",
    "줄높이  line-height : 숫자px, 숫자% 또는 숫자em  "
   ]
  },
  {
   "cell_type": "markdown",
   "metadata": {},
   "source": [
    "<span style=\"font-style: italic ; font-weight: bold; font-size: 1.5em;line-height: 1.0em; color: Orange; font-family: arial;\">모두 적용</span>"
   ]
  },
  {
   "cell_type": "markdown",
   "metadata": {},
   "source": [
    "---\n",
    "<br> \n",
    "# 8. Link"
   ]
  },
  {
   "cell_type": "markdown",
   "metadata": {},
   "source": [
    "1. https://leedakyeong.tistory.com/  \n",
    "\n",
    "2. [슈퍼짱짱 블로그](https://leedakyeong.tistory.com/) \n",
    "\n",
    "3. 슈퍼짱짱 블로그는 [이 주소][1]로 들어가면 된다. [구글][2]을 통해서도 들어갈 수 있다.\n",
    "[1]:https://leedakyeong.tistory.com/  \n",
    "[2]:https://www.google.com/"
   ]
  },
  {
   "cell_type": "markdown",
   "metadata": {},
   "source": [
    "---\n",
    "<br> \n",
    "# 9. Image"
   ]
  },
  {
   "cell_type": "markdown",
   "metadata": {},
   "source": [
    "![이미지 이름-이미지에 문제가 생겼을때 나타남](이미지 주소)  "
   ]
  },
  {
   "cell_type": "markdown",
   "metadata": {},
   "source": [
    "![sk_logo](https://upload.wikimedia.org/wikipedia/commons/b/b4/SK_logo.svg)"
   ]
  },
  {
   "cell_type": "markdown",
   "metadata": {},
   "source": [
    "Size 조절"
   ]
  },
  {
   "cell_type": "markdown",
   "metadata": {},
   "source": [
    "<img src=\"https://upload.wikimedia.org/wikipedia/commons/b/b4/SK_logo.svg\" width=\"450px\" height=\"300px\" alt=\"sk_logo\"></img><br/>"
   ]
  },
  {
   "cell_type": "markdown",
   "metadata": {},
   "source": [
    "---\n",
    "<br> \n",
    "# 10. Table"
   ]
  },
  {
   "cell_type": "markdown",
   "metadata": {},
   "source": [
    "| First Header  | Second Header | Third Header         |\n",
    "| ------------- | ------------- | -------------------- |\n",
    "| First row     | Data          | Very long data entry |\n",
    "| Second row    | **Cell**      | *Cell*               |\n",
    "| Third row     | Cell that spans across two columns  ||"
   ]
  },
  {
   "cell_type": "markdown",
   "metadata": {},
   "source": [
    "---\n",
    "<br> \n",
    "# 11. Code"
   ]
  },
  {
   "cell_type": "markdown",
   "metadata": {},
   "source": [
    "```java\n",
    "public class BootSpringBootApplication {\n",
    "  public static void main(String[] args) {\n",
    "    System.out.println(\"Hello, Honeymon\");\n",
    "  }\n",
    "}\n",
    "```"
   ]
  },
  {
   "cell_type": "markdown",
   "metadata": {},
   "source": [
    "```python\n",
    "a=10\n",
    "print(a)\n",
    "```"
   ]
  },
  {
   "cell_type": "markdown",
   "metadata": {},
   "source": [
    "---\n",
    "<br> \n",
    "# 12. Tex"
   ]
  },
  {
   "cell_type": "markdown",
   "metadata": {},
   "source": [
    "[Tex 문법](https://ko.wikipedia.org/wiki/%EC%9C%84%ED%82%A4%EB%B0%B1%EA%B3%BC:TeX_%EB%AC%B8%EB%B2%95)을 활용하여 수학식을 표시할 수 있습니다.  "
   ]
  },
  {
   "cell_type": "markdown",
   "metadata": {},
   "source": [
    "ex1)  \n",
    "$y=3x$  \n",
    "\n",
    "ex2)<br>  \n",
    "$$\\sqrt[3]{x^3+y^3 \\over 2}$$"
   ]
  },
  {
   "cell_type": "code",
   "execution_count": null,
   "metadata": {},
   "outputs": [],
   "source": []
  }
 ],
 "metadata": {
  "kernelspec": {
   "display_name": "Python 3",
   "language": "python",
   "name": "python3"
  },
  "language_info": {
   "codemirror_mode": {
    "name": "ipython",
    "version": 3
   },
   "file_extension": ".py",
   "mimetype": "text/x-python",
   "name": "python",
   "nbconvert_exporter": "python",
   "pygments_lexer": "ipython3",
   "version": "3.6.5"
  },
  "latex_envs": {
   "LaTeX_envs_menu_present": true,
   "autoclose": false,
   "autocomplete": true,
   "bibliofile": "biblio.bib",
   "cite_by": "apalike",
   "current_citInitial": 1,
   "eqLabelWithNumbers": true,
   "eqNumInitial": 1,
   "hotkeys": {
    "equation": "Ctrl-E",
    "itemize": "Ctrl-I"
   },
   "labels_anchors": false,
   "latex_user_defs": false,
   "report_style_numbering": false,
   "user_envs_cfg": false
  },
  "toc": {
   "base_numbering": 1,
   "nav_menu": {},
   "number_sections": false,
   "sideBar": true,
   "skip_h1_title": false,
   "title_cell": "Table of Contents",
   "title_sidebar": "Contents",
   "toc_cell": true,
   "toc_position": {
    "height": "calc(100% - 180px)",
    "left": "10px",
    "top": "150px",
    "width": "288px"
   },
   "toc_section_display": true,
   "toc_window_display": true
  },
  "varInspector": {
   "cols": {
    "lenName": 16,
    "lenType": 16,
    "lenVar": 40
   },
   "kernels_config": {
    "python": {
     "delete_cmd_postfix": "",
     "delete_cmd_prefix": "del ",
     "library": "var_list.py",
     "varRefreshCmd": "print(var_dic_list())"
    },
    "r": {
     "delete_cmd_postfix": ") ",
     "delete_cmd_prefix": "rm(",
     "library": "var_list.r",
     "varRefreshCmd": "cat(var_dic_list()) "
    }
   },
   "types_to_exclude": [
    "module",
    "function",
    "builtin_function_or_method",
    "instance",
    "_Feature"
   ],
   "window_display": false
  }
 },
 "nbformat": 4,
 "nbformat_minor": 4
}
